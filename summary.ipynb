{
 "cells": [
  {
   "cell_type": "code",
   "execution_count": null,
   "id": "8cb6037d",
   "metadata": {},
   "outputs": [],
   "source": [
    "import google.generativeai as genai\n",
    "import requests\n",
    "from bs4 import BeautifulSoup\n",
    "import time\n",
    "import textwrap\n",
    "from IPython.display import Markdown, display"
   ]
  },
  {
   "cell_type": "code",
   "execution_count": null,
   "id": "3656d734",
   "metadata": {},
   "outputs": [],
   "source": [
    "genai.configure(api_key=\"Enter_your_Api_here\")\n"
   ]
  },
  {
   "cell_type": "code",
   "execution_count": null,
   "id": "5d4d4cee",
   "metadata": {},
   "outputs": [],
   "source": [
    "def wrap_text(text, width=100):\n",
    "    return '\\n'.join(textwrap.wrap(text, width=width))"
   ]
  },
  {
   "cell_type": "code",
   "execution_count": null,
   "id": "f7483019",
   "metadata": {},
   "outputs": [],
   "source": [
    "def type_text(text, delay=0.005, width=100):\n",
    "    wrapped = wrap_text(text, width)\n",
    "    for line in wrapped.split('\\n'):\n",
    "        for char in line:\n",
    "            print(char, end='', flush=True)\n",
    "            time.sleep(delay)\n",
    "        print()"
   ]
  },
  {
   "cell_type": "code",
   "execution_count": null,
   "id": "ad477633",
   "metadata": {},
   "outputs": [],
   "source": [
    "def extract_text_from_url(url):\n",
    "    response = requests.get(url)\n",
    "    soup = BeautifulSoup(response.content, \"html.parser\")\n",
    "\n",
    "    for tag in soup([\"script\", \"style\", \"img\", \"video\", \"iframe\"]):\n",
    "        tag.decompose()\n",
    "\n",
    "    text = soup.get_text(separator=\"\\n\")\n",
    "    cleaned_text = ' '.join(text.split())\n",
    "    return cleaned_text"
   ]
  },
  {
   "cell_type": "code",
   "execution_count": null,
   "id": "231d4e12",
   "metadata": {},
   "outputs": [],
   "source": [
    "def summarize_with_gemini(text):\n",
    "    model = genai.GenerativeModel(\"models/gemini-1.5-flash\")\n",
    "    prompt = f\"\"\"\n",
    "Please generate a **detailed summary** of the following webpage content:\n",
    "- Use bullet points wherever appropriate.\n",
    "- Include subheadings like 'Overview', 'Key Insights', etc.\n",
    "- Do not mention any images, videos, or links.\n",
    "\n",
    "Text content:\n",
    "{text}\n",
    "\"\"\"\n",
    "    response = model.generate_content(prompt)\n",
    "    return response.text"
   ]
  },
  {
   "cell_type": "code",
   "execution_count": null,
   "id": "5a2f0f06",
   "metadata": {},
   "outputs": [],
   "source": [
    "def pretty_display(summary, url, use_typing=True):\n",
    "    heading_main = \"📄 SUMMARY OF THE PAGE\"\n",
    "    source_line = f\"🔗 URL Entered: {url}\"\n",
    "\n",
    "    if use_typing:\n",
    "        type_text(heading_main)\n",
    "        type_text(source_line)\n",
    "    else:\n",
    "        display(Markdown(f\"## {heading_main}\"))\n",
    "        display(Markdown(f\"**URL Entered:** {url}\"))\n",
    "\n",
    "    sections = summary.strip().split(\"\\n\\n\")\n",
    "\n",
    "    for section in sections:\n",
    "        lines = section.strip().split(\"\\n\")\n",
    "        if not lines:\n",
    "            continue\n",
    "\n",
    "        heading = lines[0].strip().replace(\":\", \"\").upper()\n",
    "        if use_typing:\n",
    "            type_text(f\"\\n🟩 {heading}\")\n",
    "        else:\n",
    "            display(Markdown(f\"### 🟩 *{heading}*\"))\n",
    "\n",
    "        for line in lines[1:]:\n",
    "            clean_line = line.strip().lstrip(\"*\").strip()\n",
    "            if clean_line:\n",
    "                bullet = f\"- {clean_line}\"\n",
    "                if use_typing:\n",
    "                    type_text(bullet)\n",
    "                else:\n",
    "                    display(Markdown(bullet))\n"
   ]
  },
  {
   "cell_type": "code",
   "execution_count": null,
   "id": "ec20eb57",
   "metadata": {},
   "outputs": [],
   "source": [
    "url = input(\"Enter the URL of the website: \").strip()\n",
    "print(\"\\nFetching content and generating summary... Please wait.\\n\")\n",
    "\n",
    "try:\n",
    "    text = extract_text_from_url(url)\n",
    "    summary = summarize_with_gemini(text)\n",
    "    pretty_display(summary, url, use_typing=True)\n",
    "except Exception as e:\n",
    "    print(\"❌ Error fetching or summarizing content:\", e)"
   ]
  },
  {
   "cell_type": "code",
   "execution_count": null,
   "id": "0f98adc6",
   "metadata": {},
   "outputs": [],
   "source": [
    "import os"
   ]
  },
  {
   "cell_type": "code",
   "execution_count": null,
   "id": "463f5188",
   "metadata": {},
   "outputs": [],
   "source": [
    "def save_summary_to_markdown(summary, filename=\"summary.md\"):\n",
    "    with open(filename, \"w\", encoding=\"utf-8\") as md_file:\n",
    "        md_file.write(\"# Website Summary\\n\\n\")\n",
    "        md_file.write(summary)\n",
    "    print(\"✅ Summary saved at:\", os.path.abspath(\"summary.md\"))"
   ]
  },
  {
   "cell_type": "code",
   "execution_count": null,
   "id": "b0a97947",
   "metadata": {},
   "outputs": [],
   "source": [
    "save_summary_to_markdown(summary)"
   ]
  },
  {
   "cell_type": "code",
   "execution_count": null,
   "id": "f83d6996",
   "metadata": {},
   "outputs": [],
   "source": [
    "def search_keyword_in_summary(keyword, filename=\"summary.md\"):\n",
    "    keyword = keyword.lower()\n",
    "    found_lines = []\n",
    "\n",
    "    try:\n",
    "        with open(filename, \"r\", encoding=\"utf-8\") as md_file:\n",
    "            lines = md_file.readlines()\n",
    "            for line in lines:\n",
    "                if keyword in line.lower():\n",
    "                    found_lines.append(line.strip())\n",
    "\n",
    "        if found_lines:\n",
    "            print(f\"\\n🔍 Details for keyword: *{keyword}*\\n\")\n",
    "            for match in found_lines:\n",
    "                print(\"•\", match)\n",
    "        else:\n",
    "            print(f\"❌ The keyword '{keyword}' was not found in the summary.\")\n",
    "    \n",
    "    except FileNotFoundError:\n",
    "        print(\"⚠ Summary file not found. Make sure it's saved correctly.\")\n",
    "\n",
    "user_keyword = input(\"Enter a keyword to search in the summary: \")\n",
    "search_keyword_in_summary(user_keyword)"
   ]
  },
  {
   "cell_type": "code",
   "execution_count": null,
   "id": "fc8b2e7a",
   "metadata": {},
   "outputs": [],
   "source": [
    "import json\n",
    "import os\n",
    "from datetime import datetime\n",
    "\n",
    "def log_summary(source_url, summary_file_path, summary_text=None, model_used=\"Gemini\"):\n",
    "    history_file = \"history.json\"\n",
    "\n",
    "    if os.path.exists(history_file):\n",
    "        try:\n",
    "            with open(history_file, \"r\") as f:\n",
    "                history = json.load(f)\n",
    "            if not isinstance(history, dict):\n",
    "                history = {}\n",
    "        except json.JSONDecodeError:\n",
    "            history = {}\n",
    "    else:\n",
    "        history = {}\n",
    "\n",
    "    summary_entry = {\n",
    "        \"timestamp\": datetime.now().strftime(\"%Y-%m-%d %H:%M:%S\"),\n",
    "        \"source_url\": source_url,\n",
    "        \"summary_file\": os.path.basename(summary_file_path),\n",
    "        \"used_model\": model_used\n",
    "    }\n",
    "\n",
    "    if summary_text:\n",
    "        summary_entry[\"summary_preview\"] = summary_text[:200] + \"...\"\n",
    "\n",
    "    history.setdefault(\"summaries\", []).append(summary_entry)\n",
    "\n",
    "    with open(history_file, \"w\") as f:\n",
    "        json.dump(history, f, indent=4)\n",
    "\n",
    "    print(f\"✅ Summary logged to '{history_file}'\")\n",
    "\n",
    "\n",
    "log_summary(url, \"summary.md\")"
   ]
  }
 ],
 "metadata": {
  "kernelspec": {
   "display_name": "Python 3",
   "language": "python",
   "name": "python3"
  },
  "language_info": {
   "codemirror_mode": {
    "name": "ipython",
    "version": 3
   },
   "file_extension": ".py",
   "mimetype": "text/x-python",
   "name": "python",
   "nbconvert_exporter": "python",
   "pygments_lexer": "ipython3",
   "version": "3.11.1"
  }
 },
 "nbformat": 4,
 "nbformat_minor": 5
}
